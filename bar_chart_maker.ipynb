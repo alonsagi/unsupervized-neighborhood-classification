{
 "cells": [
  {
   "cell_type": "code",
   "execution_count": null,
   "metadata": {},
   "outputs": [],
   "source": [
    "#import sklearn as sk\n",
    "from time import time\n",
    "from sklearn.cluster import KMeans\n",
    "from sklearn.preprocessing import scale\n",
    "from sklearn import metrics\n",
    "from sklearn.decomposition import PCA\n",
    "\n",
    "import numpy as np\n",
    "import pandas as pd\n",
    "from datetime import datetime as date\n",
    "import datetime as dt\n",
    "from dateutil.relativedelta import*\n",
    "import copy \n",
    "import sys\n",
    "import math\n",
    "# import statsmodels.api as sm\n",
    "# import statsmodels.formula.api as smf\n",
    "\n",
    "import plotly.offline as pyo\n",
    "from plotly.offline import download_plotlyjs, init_notebook_mode, plot, iplot \n",
    "import plotly.graph_objs as go\n",
    "\n",
    "import matplotlib.pyplot as plt\n",
    "import plotly.express as px\n",
    "np.random.seed(42)"
   ]
  },
  {
   "cell_type": "code",
   "execution_count": null,
   "metadata": {},
   "outputs": [],
   "source": [
    "final_K_means_table = pd.read_csv('final_K_means_7_2018_senity.csv')\n",
    "final_K_means_table= final_K_means_table.rename(columns=lambda s: s[:4]).drop(['Unna'],axis=1)\n",
    "melt=final_K_means_table.melt(id_vars=['msoa']).sort_values(by=['msoa','variable'])#[:3000]\n"
   ]
  },
  {
   "cell_type": "code",
   "execution_count": null,
   "metadata": {},
   "outputs": [],
   "source": [
    "final_K_means_table"
   ]
  },
  {
   "cell_type": "code",
   "execution_count": null,
   "metadata": {
    "scrolled": true
   },
   "outputs": [],
   "source": [
    "\n",
    "colors = ['lightslategray',] * 9\n",
    "dtype=np.uint8\n",
    "colors[1] = 'crimson'\n",
    "print(colors)\n",
    "fig = px.bar(melt, y=\"variable\", x=\"msoa\", color='value', # orientation='h',\n",
    "              height=800,width=25000)\n",
    "#              height=800,width=1500)\n",
    "fig.update_layout(\n",
    "    title='final_K_means_only relative price change',\n",
    "    bargap=0,\n",
    "    coloraxis=dict(colorscale='Rainbow',reversescale=True)\n",
    "    )\n",
    "#fig.update_traces(marker_line_width=0.06)\n",
    "fig.update_traces(marker_line_width=0.00)\n",
    "fig.show()"
   ]
  },
  {
   "cell_type": "code",
   "execution_count": null,
   "metadata": {},
   "outputs": [],
   "source": [
    "melt"
   ]
  },
  {
   "cell_type": "code",
   "execution_count": null,
   "metadata": {},
   "outputs": [],
   "source": []
  }
 ],
 "metadata": {
  "kernelspec": {
   "display_name": "Python (normal_37)",
   "language": "python",
   "name": "myenv"
  },
  "language_info": {
   "codemirror_mode": {
    "name": "ipython",
    "version": 3
   },
   "file_extension": ".py",
   "mimetype": "text/x-python",
   "name": "python",
   "nbconvert_exporter": "python",
   "pygments_lexer": "ipython3",
   "version": "3.7.3"
  }
 },
 "nbformat": 4,
 "nbformat_minor": 4
}
